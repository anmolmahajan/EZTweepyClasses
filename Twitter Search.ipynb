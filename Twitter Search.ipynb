{
 "cells": [
  {
   "cell_type": "code",
   "execution_count": null,
   "metadata": {},
   "outputs": [],
   "source": [
    "from EZTC import EZTweepyClasses as eztc\n",
    "\n",
    "#Enter your keys from developer.twitter.com\n",
    "consumer_key = ''\n",
    "consumer_secret = ''\n",
    "access_token = ''\n",
    "access_token_secret = ''\n",
    "\n",
    "ezt = eztc.EZTweepyClass(consumer_key, consumer_secret, access_token, access_token_secret)\n",
    "creds = ezt.verifyCreds()\n",
    "\n",
    "\n",
    "#Using Account Tweet Builder Class        \n",
    "atb = ezt.AccountTweetBuilder(\"@INCIndia\", creds, 10)\n",
    "atb.tweet_builder()     #Uncomment this to run twitter API Again, otherwise read from saved tweets\n",
    "#atb.print_tweets()\n",
    "\n",
    "#Using KeyWordSearcher Class\n",
    "kws = ezt.KeyWordSearcher(\"Coronavirus\", creds, 100)\n",
    "#kws.searchBuilder()            #Uncomment this to run twitter API Again, otherwise read from saved tweets\n",
    "kws.print_tweets()\n",
    "\n",
    "f_tweets = atb.convertList(atb.tweet_dict)"
   ]
  },
  {
   "cell_type": "code",
   "execution_count": null,
   "metadata": {},
   "outputs": [],
   "source": [
    "import wordcloud\n",
    "from wordcloud import WordCloud\n",
    "import matplotlib.pyplot as plt\n",
    "%matplotlib inline\n",
    "\n",
    "wc_documents = \" \".join(ft for ft in f_tweets)\n",
    "wc = WordCloud(width = 1500, height =800, max_font_size=80, max_words=150, background_color=\"black\").generate(wc_documents)\n",
    "plt.figure(figsize=(18,10))\n",
    "plt.imshow(wc, interpolation='bilinear')\n",
    "plt.axis(\"off\")\n",
    "plt.show()"
   ]
  },
  {
   "cell_type": "code",
   "execution_count": null,
   "metadata": {},
   "outputs": [],
   "source": [
    "import spacy\n",
    "\n",
    "nlp = spacy.load('en')\n",
    "texts = []\n",
    "for ft in f_tweets:\n",
    "    text = []\n",
    "    doc = nlp(ft)\n",
    "    for w in doc:\n",
    "        if not w.is_stop and not w.is_punct and not w.like_num:\n",
    "            text.append(w.lemma_.lower())\n",
    "    texts.append(text)\n",
    "print(texts)\n",
    "\n",
    "import gensim\n",
    "from gensim import corpora\n",
    "\n",
    "dictionary = corpora.Dictionary(texts)\n",
    "print(dictionary.token2id)\n",
    "\n",
    "## From dictionary, remove some tokens to improve result, or you can join words\n",
    "## Bypass the filtering step for the first run. Do it as part of improvisation\n",
    "#  Update the list as needed\n",
    "sw_list = ['RT', 'don'] \n",
    "print(len(dictionary))\n",
    "sw_list = set(sw_list).intersection(dictionary.token2id.keys())\n",
    "ids = [dictionary.token2id[x] for x in sw_list]\n",
    "dictionary.filter_tokens(ids)\n",
    "len((dictionary))\n",
    "\n",
    "corpus = [dictionary.doc2bow(text) for text in texts]\n",
    "print(corpus)"
   ]
  },
  {
   "cell_type": "code",
   "execution_count": null,
   "metadata": {},
   "outputs": [],
   "source": [
    "#TFIDF CORPUS\n",
    "from gensim import models\n",
    "\n",
    "tfidf = models.TfidfModel(corpus)\n",
    "tfidf_corpus = []\n",
    "for doc in corpus:\n",
    "    tfidf_corpus.append(tfidf[doc])\n",
    "    \n",
    "# Just for check, run LDA, THIS SHOULD BE SHOWN WITH LDA/LSA class, try with multiple values of topics & check\n",
    "## perplexity & coherence\n",
    "ldamodel = models.LdaModel(corpus=corpus, num_topics=10, id2word=dictionary, random_state=10)\n",
    "print(ldamodel.show_topics())\n",
    "#Compute Perplexity\n",
    "print('\\nPerplexeity: ', ldamodel.log_perplexity(corpus))  # a measure of how good the model is. lower the better.\n",
    "\n",
    "#Compute Coherence Score\n",
    "from gensim.models import CoherenceModel\n",
    "coherence_model_lda = CoherenceModel(model=ldamodel, texts=texts, dictionary=dictionary, window_size=10)\n",
    "coherence_lda = coherence_model_lda.get_coherence()\n",
    "print('\\nCoherence Score: ', coherence_lda)"
   ]
  },
  {
   "cell_type": "code",
   "execution_count": null,
   "metadata": {},
   "outputs": [],
   "source": [
    "#Visually check the topics\n",
    "import pyLDAvis.gensim\n",
    "pyLDAvis.enable_notebook()\n",
    "pyLDAvis.gensim.prepare(ldamodel, corpus, dictionary)"
   ]
  }
 ],
 "metadata": {
  "kernelspec": {
   "display_name": "Python 3",
   "language": "python",
   "name": "python3"
  },
  "language_info": {
   "codemirror_mode": {
    "name": "ipython",
    "version": 3
   },
   "file_extension": ".py",
   "mimetype": "text/x-python",
   "name": "python",
   "nbconvert_exporter": "python",
   "pygments_lexer": "ipython3",
   "version": "3.7.4"
  }
 },
 "nbformat": 4,
 "nbformat_minor": 2
}
